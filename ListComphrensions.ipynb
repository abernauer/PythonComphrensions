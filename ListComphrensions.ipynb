{
  "nbformat": 4,
  "nbformat_minor": 0,
  "metadata": {
    "colab": {
      "name": "ListComphrensions.ipynb",
      "provenance": [],
      "authorship_tag": "ABX9TyNI/38oz1oJ6j2ZqmZYWYt/",
      "include_colab_link": true
    },
    "kernelspec": {
      "name": "python3",
      "display_name": "Python 3"
    }
  },
  "cells": [
    {
      "cell_type": "markdown",
      "metadata": {
        "id": "view-in-github",
        "colab_type": "text"
      },
      "source": [
        "<a href=\"https://colab.research.google.com/github/abernauer/PythonComphrensions/blob/master/ListComphrensions.ipynb\" target=\"_parent\"><img src=\"https://colab.research.google.com/assets/colab-badge.svg\" alt=\"Open In Colab\"/></a>"
      ]
    },
    {
      "cell_type": "code",
      "metadata": {
        "id": "o3yz5sLVDAgF",
        "colab_type": "code",
        "colab": {}
      },
      "source": [
        "      # comprehension\n",
        "\n",
        "    # list, set, dict"
      ],
      "execution_count": null,
      "outputs": []
    },
    {
      "cell_type": "code",
      "metadata": {
        "id": "8ubTle5qPPoq",
        "colab_type": "code",
        "colab": {}
      },
      "source": [
        ""
      ],
      "execution_count": null,
      "outputs": []
    },
    {
      "cell_type": "code",
      "metadata": {
        "id": "f4GsQh-_DVvB",
        "colab_type": "code",
        "colab": {
          "base_uri": "https://localhost:8080/",
          "height": 35
        },
        "outputId": "8d3b7ad3-d2f7-4fa4-ab92-cb4aec40ce7a"
      },
      "source": [
        "numbers = list(range(10))\n",
        "numbers"
      ],
      "execution_count": null,
      "outputs": [
        {
          "output_type": "execute_result",
          "data": {
            "text/plain": [
              "[0, 1, 2, 3, 4, 5, 6, 7, 8, 9]"
            ]
          },
          "metadata": {
            "tags": []
          },
          "execution_count": 1
        }
      ]
    },
    {
      "cell_type": "code",
      "metadata": {
        "id": "i0QzbvEEDmBO",
        "colab_type": "code",
        "colab": {}
      },
      "source": [
        "output = []\n",
        "for one_number in numbers:\n",
        "      output.append(one_number * one_number)"
      ],
      "execution_count": null,
      "outputs": []
    },
    {
      "cell_type": "code",
      "metadata": {
        "id": "SbPks86PEBxI",
        "colab_type": "code",
        "colab": {
          "base_uri": "https://localhost:8080/",
          "height": 35
        },
        "outputId": "55355f73-b2e1-498c-aa84-c2207d67dfd2"
      },
      "source": [
        "output"
      ],
      "execution_count": null,
      "outputs": [
        {
          "output_type": "execute_result",
          "data": {
            "text/plain": [
              "[0, 1, 4, 9, 16, 25, 36, 49, 64, 81]"
            ]
          },
          "metadata": {
            "tags": []
          },
          "execution_count": 4
        }
      ]
    },
    {
      "cell_type": "code",
      "metadata": {
        "id": "JZHxSS7xEnQ2",
        "colab_type": "code",
        "colab": {
          "base_uri": "https://localhost:8080/",
          "height": 35
        },
        "outputId": "675a6dc6-eb8d-4c9e-97f0-d74719333073"
      },
      "source": [
        "# list comprehension\n",
        "[one_number * one_number for one_number in numbers]"
      ],
      "execution_count": null,
      "outputs": [
        {
          "output_type": "execute_result",
          "data": {
            "text/plain": [
              "[0, 1, 4, 9, 16, 25, 36, 49, 64, 81]"
            ]
          },
          "metadata": {
            "tags": []
          },
          "execution_count": 5
        }
      ]
    },
    {
      "cell_type": "code",
      "metadata": {
        "id": "mBEfGOhME6sR",
        "colab_type": "code",
        "colab": {
          "base_uri": "https://localhost:8080/",
          "height": 35
        },
        "outputId": "c1001ac2-5ae6-4b99-ca39-af6751ce68c4"
      },
      "source": [
        "[one_number * one_number for one_number in numbers]"
      ],
      "execution_count": null,
      "outputs": [
        {
          "output_type": "execute_result",
          "data": {
            "text/plain": [
              "[0, 1, 4, 9, 16, 25, 36, 49, 64, 81]"
            ]
          },
          "metadata": {
            "tags": []
          },
          "execution_count": 6
        }
      ]
    },
    {
      "cell_type": "code",
      "metadata": {
        "id": "0qrEdZbhGJz9",
        "colab_type": "code",
        "colab": {
          "base_uri": "https://localhost:8080/",
          "height": 215
        },
        "outputId": "060beb35-d2a5-4346-ae67-237e18bd7b52"
      },
      "source": [
        "[print(one_number * one_number) for one_number in numbers]"
      ],
      "execution_count": null,
      "outputs": [
        {
          "output_type": "stream",
          "text": [
            "0\n",
            "1\n",
            "4\n",
            "9\n",
            "16\n",
            "25\n",
            "36\n",
            "49\n",
            "64\n",
            "81\n"
          ],
          "name": "stdout"
        },
        {
          "output_type": "execute_result",
          "data": {
            "text/plain": [
              "[None, None, None, None, None, None, None, None, None, None]"
            ]
          },
          "metadata": {
            "tags": []
          },
          "execution_count": 7
        }
      ]
    },
    {
      "cell_type": "code",
      "metadata": {
        "id": "f2TU_mvmGu_a",
        "colab_type": "code",
        "colab": {
          "base_uri": "https://localhost:8080/",
          "height": 35
        },
        "outputId": "b6e1ef1f-99c6-4996-86e9-4036ad130192"
      },
      "source": [
        "[one_number * one_number # SELECT\n",
        " for one_number in numbers] #FROM"
      ],
      "execution_count": null,
      "outputs": [
        {
          "output_type": "execute_result",
          "data": {
            "text/plain": [
              "[0, 1, 4, 9, 16, 25, 36, 49, 64, 81]"
            ]
          },
          "metadata": {
            "tags": []
          },
          "execution_count": 8
        }
      ]
    },
    {
      "cell_type": "code",
      "metadata": {
        "id": "TCfbtCHDG9PX",
        "colab_type": "code",
        "colab": {
          "base_uri": "https://localhost:8080/",
          "height": 35
        },
        "outputId": "60d76a89-16d3-4d63-bcb1-ea865886f534"
      },
      "source": [
        "words = 'This is a bunch of words'.split()\n",
        "\n",
        "' '.join([one_word.capitalize()\n",
        "for one_word in words])"
      ],
      "execution_count": null,
      "outputs": [
        {
          "output_type": "execute_result",
          "data": {
            "application/vnd.google.colaboratory.intrinsic": {
              "type": "string"
            },
            "text/plain": [
              "'This Is A Bunch Of Words'"
            ]
          },
          "metadata": {
            "tags": []
          },
          "execution_count": 10
        }
      ]
    },
    {
      "cell_type": "code",
      "metadata": {
        "id": "CAa2429wHyw0",
        "colab_type": "code",
        "colab": {
          "base_uri": "https://localhost:8080/",
          "height": 35
        },
        "outputId": "6e10fee1-6612-4d7e-d4b0-0ee6f6e70263"
      },
      "source": [
        "'This is a bunch of words'.title()"
      ],
      "execution_count": null,
      "outputs": [
        {
          "output_type": "execute_result",
          "data": {
            "application/vnd.google.colaboratory.intrinsic": {
              "type": "string"
            },
            "text/plain": [
              "'This Is A Bunch Of Words'"
            ]
          },
          "metadata": {
            "tags": []
          },
          "execution_count": 11
        }
      ]
    },
    {
      "cell_type": "markdown",
      "metadata": {
        "id": "Avxsv7ytLA8d",
        "colab_type": "text"
      },
      "source": [
        "# Exercise 1"
      ]
    },
    {
      "cell_type": "code",
      "metadata": {
        "id": "DjY-n3EQIqk4",
        "colab_type": "code",
        "colab": {
          "base_uri": "https://localhost:8080/",
          "height": 35
        },
        "outputId": "fdc40ff5-fe3f-4f2e-9280-d39d8ac240a6"
      },
      "source": [
        "mylist = [10, 20, 30]\n",
        "\n",
        "'*'.join([str(one_number)\n",
        " for one_number in mylist])"
      ],
      "execution_count": null,
      "outputs": [
        {
          "output_type": "execute_result",
          "data": {
            "application/vnd.google.colaboratory.intrinsic": {
              "type": "string"
            },
            "text/plain": [
              "'10*20*30'"
            ]
          },
          "metadata": {
            "tags": []
          },
          "execution_count": 34
        }
      ]
    },
    {
      "cell_type": "code",
      "metadata": {
        "id": "VWT8hzNoYu5g",
        "colab_type": "code",
        "colab": {}
      },
      "source": [
        "[str(x)\n",
        "for x in mlist]"
      ],
      "execution_count": null,
      "outputs": []
    },
    {
      "cell_type": "code",
      "metadata": {
        "id": "40TvvEhRZU-5",
        "colab_type": "code",
        "colab": {
          "base_uri": "https://localhost:8080/",
          "height": 35
        },
        "outputId": "67098d44-7dee-42ac-9c93-cff8df266776"
      },
      "source": [
        "'*'.join([str(x)\n",
        "        for x in mylist])"
      ],
      "execution_count": null,
      "outputs": [
        {
          "output_type": "execute_result",
          "data": {
            "application/vnd.google.colaboratory.intrinsic": {
              "type": "string"
            },
            "text/plain": [
              "'10*20*30'"
            ]
          },
          "metadata": {
            "tags": []
          },
          "execution_count": 35
        }
      ]
    },
    {
      "cell_type": "markdown",
      "metadata": {
        "id": "cNm13wuVMwiJ",
        "colab_type": "text"
      },
      "source": [
        "# Exercise 2"
      ]
    },
    {
      "cell_type": "markdown",
      "metadata": {
        "id": "NyBIb952QgLW",
        "colab_type": "text"
      },
      "source": [
        "1. Input is string \n",
        "2. Need to convert to int"
      ]
    },
    {
      "cell_type": "code",
      "metadata": {
        "id": "X6XG4X0tM39-",
        "colab_type": "code",
        "colab": {
          "base_uri": "https://localhost:8080/",
          "height": 53
        },
        "outputId": "ae07e85b-2df3-4301-f82f-f974298eac02"
      },
      "source": [
        "userInput = input(\"Enter multiple hex numbers separated by space:\").split()\n",
        "userInput\n",
        "\n"
      ],
      "execution_count": null,
      "outputs": [
        {
          "output_type": "stream",
          "text": [
            "Enter multiple hex numbers separated by space:1234 5678 90ab cdef\n"
          ],
          "name": "stdout"
        },
        {
          "output_type": "execute_result",
          "data": {
            "text/plain": [
              "['1234', '5678', '90ab', 'cdef']"
            ]
          },
          "metadata": {
            "tags": []
          },
          "execution_count": 36
        }
      ]
    },
    {
      "cell_type": "code",
      "metadata": {
        "id": "qVP1la6RaA5A",
        "colab_type": "code",
        "colab": {
          "base_uri": "https://localhost:8080/",
          "height": 35
        },
        "outputId": "50a2ed48-d473-48b3-a660-c85305d95006"
      },
      "source": [
        "[ int(x, 16)\n",
        "  for x in userInput]"
      ],
      "execution_count": null,
      "outputs": [
        {
          "output_type": "execute_result",
          "data": {
            "text/plain": [
              "[4660, 22136, 37035, 52719]"
            ]
          },
          "metadata": {
            "tags": []
          },
          "execution_count": 41
        }
      ]
    },
    {
      "cell_type": "code",
      "metadata": {
        "id": "Vkol8Y6taoUD",
        "colab_type": "code",
        "colab": {
          "base_uri": "https://localhost:8080/",
          "height": 35
        },
        "outputId": "dad6e52d-fd46-45e4-9619-a27e3efe30b7"
      },
      "source": [
        "sum([ int(x, 16)\n",
        "      for x in userInput])"
      ],
      "execution_count": null,
      "outputs": [
        {
          "output_type": "execute_result",
          "data": {
            "text/plain": [
              "116550"
            ]
          },
          "metadata": {
            "tags": []
          },
          "execution_count": 42
        }
      ]
    },
    {
      "cell_type": "markdown",
      "metadata": {
        "id": "ZJ6JR-uEUJWz",
        "colab_type": "text"
      },
      "source": [
        "# Exercise 3"
      ]
    },
    {
      "cell_type": "code",
      "metadata": {
        "id": "ZNBm4WG4QFJi",
        "colab_type": "code",
        "colab": {
          "base_uri": "https://localhost:8080/",
          "height": 53
        },
        "outputId": "b668bb11-174f-433e-8d92-e1a7d3804b49"
      },
      "source": [
        "userInput = input(\"Enter some text: \")\n",
        "userlen = len(userInput)\n",
        "sum(len(one_word)\n",
        "    for one_word in userInput.split())"
      ],
      "execution_count": null,
      "outputs": [
        {
          "output_type": "stream",
          "text": [
            "Enter some text: This is a bunch of words\n"
          ],
          "name": "stdout"
        },
        {
          "output_type": "execute_result",
          "data": {
            "text/plain": [
              "19"
            ]
          },
          "metadata": {
            "tags": []
          },
          "execution_count": 44
        }
      ]
    },
    {
      "cell_type": "code",
      "metadata": {
        "id": "A_0pZG6GgKQb",
        "colab_type": "code",
        "colab": {
          "base_uri": "https://localhost:8080/",
          "height": 35
        },
        "outputId": "8e315f7f-6c09-420a-a398-5610f940b0e0"
      },
      "source": [
        "d = {'a':1, 'b':2, 'c':3}\n",
        "\n",
        "[( one_item, d[one_item] * 5)\n",
        " for one_item in d]"
      ],
      "execution_count": null,
      "outputs": [
        {
          "output_type": "execute_result",
          "data": {
            "text/plain": [
              "[('a', 5), ('b', 10), ('c', 15)]"
            ]
          },
          "metadata": {
            "tags": []
          },
          "execution_count": 4
        }
      ]
    },
    {
      "cell_type": "code",
      "metadata": {
        "id": "FluSeUWLhVEw",
        "colab_type": "code",
        "colab": {
          "base_uri": "https://localhost:8080/",
          "height": 35
        },
        "outputId": "57c46f05-7088-47ea-e5cd-9d848277448e"
      },
      "source": [
        "[ key * d[key]\n",
        "  for key in d]"
      ],
      "execution_count": null,
      "outputs": [
        {
          "output_type": "execute_result",
          "data": {
            "text/plain": [
              "['a', 'bb', 'ccc']"
            ]
          },
          "metadata": {
            "tags": []
          },
          "execution_count": 6
        }
      ]
    },
    {
      "cell_type": "code",
      "metadata": {
        "id": "4guMvyBlhu6K",
        "colab_type": "code",
        "colab": {
          "base_uri": "https://localhost:8080/",
          "height": 53
        },
        "outputId": "2eb45dd1-15e5-49b2-a448-7cb9f7c1f8c1"
      },
      "source": [
        "def reverse_word(word):\n",
        "      return word[::-1]\n",
        "words = input(\"Enter some words: \").split()\n",
        "\n",
        "[reverse_word(one_word)\n",
        " for one_word in words]"
      ],
      "execution_count": null,
      "outputs": [
        {
          "output_type": "stream",
          "text": [
            "Enter some words: this is a test of my comprehension\n"
          ],
          "name": "stdout"
        },
        {
          "output_type": "execute_result",
          "data": {
            "text/plain": [
              "['siht', 'si', 'a', 'tset', 'fo', 'ym', 'noisneherpmoc']"
            ]
          },
          "metadata": {
            "tags": []
          },
          "execution_count": 7
        }
      ]
    },
    {
      "cell_type": "code",
      "metadata": {
        "id": "Fo0rsk3Ai-pr",
        "colab_type": "code",
        "colab": {
          "base_uri": "https://localhost:8080/",
          "height": 35
        },
        "outputId": "9641c9b2-8c85-48aa-fa5d-02a252773a29"
      },
      "source": [
        "d = {'a':1, 'b':2, 'c':3}\n",
        "\n",
        "[key * value\n",
        " for key, value in d.items() ]"
      ],
      "execution_count": null,
      "outputs": [
        {
          "output_type": "execute_result",
          "data": {
            "text/plain": [
              "['a', 'bb', 'ccc']"
            ]
          },
          "metadata": {
            "tags": []
          },
          "execution_count": 8
        }
      ]
    },
    {
      "cell_type": "code",
      "metadata": {
        "id": "wC96GNQojycz",
        "colab_type": "code",
        "colab": {
          "base_uri": "https://localhost:8080/",
          "height": 451
        },
        "outputId": "19ef9d0b-36d9-4be3-af15-621c9a843c1c"
      },
      "source": [
        "[one_line\n",
        " for one_line in open('/etc/passwd')]"
      ],
      "execution_count": null,
      "outputs": [
        {
          "output_type": "execute_result",
          "data": {
            "text/plain": [
              "['root:x:0:0:root:/root:/bin/bash\\n',\n",
              " 'daemon:x:1:1:daemon:/usr/sbin:/usr/sbin/nologin\\n',\n",
              " 'bin:x:2:2:bin:/bin:/usr/sbin/nologin\\n',\n",
              " 'sys:x:3:3:sys:/dev:/usr/sbin/nologin\\n',\n",
              " 'sync:x:4:65534:sync:/bin:/bin/sync\\n',\n",
              " 'games:x:5:60:games:/usr/games:/usr/sbin/nologin\\n',\n",
              " 'man:x:6:12:man:/var/cache/man:/usr/sbin/nologin\\n',\n",
              " 'lp:x:7:7:lp:/var/spool/lpd:/usr/sbin/nologin\\n',\n",
              " 'mail:x:8:8:mail:/var/mail:/usr/sbin/nologin\\n',\n",
              " 'news:x:9:9:news:/var/spool/news:/usr/sbin/nologin\\n',\n",
              " 'uucp:x:10:10:uucp:/var/spool/uucp:/usr/sbin/nologin\\n',\n",
              " 'proxy:x:13:13:proxy:/bin:/usr/sbin/nologin\\n',\n",
              " 'www-data:x:33:33:www-data:/var/www:/usr/sbin/nologin\\n',\n",
              " 'backup:x:34:34:backup:/var/backups:/usr/sbin/nologin\\n',\n",
              " 'list:x:38:38:Mailing List Manager:/var/list:/usr/sbin/nologin\\n',\n",
              " 'irc:x:39:39:ircd:/var/run/ircd:/usr/sbin/nologin\\n',\n",
              " 'gnats:x:41:41:Gnats Bug-Reporting System (admin):/var/lib/gnats:/usr/sbin/nologin\\n',\n",
              " 'nobody:x:65534:65534:nobody:/nonexistent:/usr/sbin/nologin\\n',\n",
              " '_apt:x:100:65534::/nonexistent:/usr/sbin/nologin\\n',\n",
              " 'systemd-network:x:101:104:systemd Network Management,,,:/run/systemd/netif:/usr/sbin/nologin\\n',\n",
              " 'systemd-resolve:x:102:105:systemd Resolver,,,:/run/systemd/resolve:/usr/sbin/nologin\\n',\n",
              " 'nvidia-persistenced:x:103:107:NVIDIA Persistence Daemon,,,:/nonexistent:/sbin/nologin\\n',\n",
              " 'messagebus:x:104:108::/nonexistent:/usr/sbin/nologin\\n']"
            ]
          },
          "metadata": {
            "tags": []
          },
          "execution_count": 9
        }
      ]
    },
    {
      "cell_type": "code",
      "metadata": {
        "id": "YznpW-SlkU0J",
        "colab_type": "code",
        "colab": {
          "base_uri": "https://localhost:8080/",
          "height": 431
        },
        "outputId": "df4ca129-8769-4484-851b-11f82f800004"
      },
      "source": [
        "[one_line.split(':')[0] # SELECT \n",
        " for one_line in open('/etc/passwd') # FROM\n",
        " if not one_line.startswith('#')] # WHERE "
      ],
      "execution_count": null,
      "outputs": [
        {
          "output_type": "execute_result",
          "data": {
            "text/plain": [
              "['root',\n",
              " 'daemon',\n",
              " 'bin',\n",
              " 'sys',\n",
              " 'sync',\n",
              " 'games',\n",
              " 'man',\n",
              " 'lp',\n",
              " 'mail',\n",
              " 'news',\n",
              " 'uucp',\n",
              " 'proxy',\n",
              " 'www-data',\n",
              " 'backup',\n",
              " 'list',\n",
              " 'irc',\n",
              " 'gnats',\n",
              " 'nobody',\n",
              " '_apt',\n",
              " 'systemd-network',\n",
              " 'systemd-resolve',\n",
              " 'nvidia-persistenced',\n",
              " 'messagebus']"
            ]
          },
          "metadata": {
            "tags": []
          },
          "execution_count": 13
        }
      ]
    },
    {
      "cell_type": "markdown",
      "metadata": {
        "id": "lSuZ8I7JPSxa",
        "colab_type": "text"
      },
      "source": [
        "# Complex comprehensions exercises"
      ]
    },
    {
      "cell_type": "markdown",
      "metadata": {
        "id": "Uz-VELbiP0Ob",
        "colab_type": "text"
      },
      "source": [
        ""
      ]
    },
    {
      "cell_type": "code",
      "metadata": {
        "id": "TP4wLM96P3ah",
        "colab_type": "code",
        "colab": {}
      },
      "source": [
        ""
      ],
      "execution_count": null,
      "outputs": []
    }
  ]
}